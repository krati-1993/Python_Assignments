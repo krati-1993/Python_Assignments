{
 "cells": [
  {
   "cell_type": "code",
   "execution_count": 78,
   "id": "b78b2d1d-5624-49ae-9ccb-9fdd0e5a3cf0",
   "metadata": {},
   "outputs": [
    {
     "name": "stdout",
     "output_type": "stream",
     "text": [
      "[1, 2, 3, 4, 44, 55, 66, True, False, 34, 56, 78, 89, 34, 1, 2, 3, 56]\n",
      "0\n"
     ]
    }
   ],
   "source": [
    "#1. Create a function which will take a list as an argument and return the product of all the numbers  after creating a flat list. \n",
    "#Use the below-given list as an argument for your function. \n",
    "\n",
    "def product_of_numbers(my_list):  \n",
    "    flat_list = [item for sublist in my_list for item in (sublist if isinstance(sublist, (list, tuple, set)) else [sublist])]\n",
    "    numbers_list = [x for x in flat_list if isinstance(x, int) or isinstance(x, float) ]\n",
    "    print(numbers_list)\n",
    "    product = 1\n",
    "    for num in numbers_list:\n",
    "        product *= num\n",
    "    return product\n",
    "\n",
    "# Define the list\n",
    "list1 = [1,2,3,4, [44,55,66, True], False, (34,56,78,89,34), {1,2,3,3,2,1}, {1:34, \"key2\": [55, 67, 78, 89], 4: (45, 22, 61, 34)}, [56, 'data science'], 'Machine Learning']\n",
    "\n",
    "# Call the function and print the result\n",
    "print(product_of_numbers(list1))\n",
    "\n",
    "# Output is 0 because of False in List.\n"
   ]
  },
  {
   "cell_type": "code",
   "execution_count": 80,
   "id": "e49618d8-05e5-4ef3-a30a-eaa3fd0fae75",
   "metadata": {},
   "outputs": [
    {
     "name": "stdout",
     "output_type": "stream",
     "text": [
      "i want to become a data scientist\n",
      "r$dzmg$gl$yvxlnv$z$wzgz$hxrvmgrhg\n"
     ]
    }
   ],
   "source": [
    "#2. Write a python program for encrypting a message sent to you by your friend. The logic of encryption  should be such that, for a the output should be z. For b, the output should be y. For c, the output should  be x respectively. Also, the whitespace should be replaced with a dollar sign. Keep the punctuation  marks unchanged. \n",
    "#Input Sentence: I want to become a Data Scientist. \n",
    "\n",
    "def encrypt_message(message):\n",
    "    result = \"\"\n",
    "    for char in message:\n",
    "        if char.isalpha():\n",
    "            result += chr(219 - ord(char))  # encryption logic\n",
    "        elif char.isspace():\n",
    "            result += \"$\"  # replace whitespace with dollar sign\n",
    "        else:\n",
    "            result += char  # punctuation marks remain unchanged\n",
    "    return result\n",
    "\n",
    "# Example usage:\n",
    "message = \"I want to become a Data Scientist\"\n",
    "msg = message.lower()\n",
    "encrypted_message = encrypt_message(msg)\n",
    "print(msg)\n",
    "print(encrypted_message)\n"
   ]
  },
  {
   "cell_type": "code",
   "execution_count": null,
   "id": "5e1ddbc7-a6c1-44db-ac7b-63af36b06f3c",
   "metadata": {},
   "outputs": [],
   "source": []
  }
 ],
 "metadata": {
  "kernelspec": {
   "display_name": "Python 3 (ipykernel)",
   "language": "python",
   "name": "python3"
  },
  "language_info": {
   "codemirror_mode": {
    "name": "ipython",
    "version": 3
   },
   "file_extension": ".py",
   "mimetype": "text/x-python",
   "name": "python",
   "nbconvert_exporter": "python",
   "pygments_lexer": "ipython3",
   "version": "3.10.8"
  }
 },
 "nbformat": 4,
 "nbformat_minor": 5
}
