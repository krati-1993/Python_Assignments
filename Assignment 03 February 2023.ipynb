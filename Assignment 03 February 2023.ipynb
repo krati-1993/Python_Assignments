{
 "cells": [
  {
   "cell_type": "code",
   "execution_count": 7,
   "id": "8cdd817e-c6a4-4e2d-9b7d-9819f993b3fe",
   "metadata": {},
   "outputs": [
    {
     "data": {
      "text/plain": [
       "[1, 3, 5, 7, 9, 11, 13, 15, 17, 19, 21, 23]"
      ]
     },
     "execution_count": 7,
     "metadata": {},
     "output_type": "execute_result"
    }
   ],
   "source": [
    "#1. Which keyword is used to create a function? Create a function to return a list of odd numbers in the range of 1 to 25. \n",
    "\n",
    "#   The 'def' keyword is used to create or define a function\n",
    "def odd_list():\n",
    "    \"\"\"Function to return a list of odd numbers in the given List range of 1 to 25\"\"\"\n",
    "    l =[]\n",
    "    for i in range(1,25) :\n",
    "        if i % 2 !=0 :\n",
    "            l.append(i)\n",
    "    return l\n",
    "odd_list()"
   ]
  },
  {
   "cell_type": "code",
   "execution_count": 8,
   "id": "48d19633-da36-4547-a044-c6bdbf7187e3",
   "metadata": {},
   "outputs": [
    {
     "name": "stdout",
     "output_type": "stream",
     "text": [
      "Sum: 8\n",
      "Sum: 22\n",
      "Sum: 17\n",
      "\n",
      "Data type of argument: <class 'dict'>\n",
      "Firstname is Kratika\n",
      "Lastname is Dua\n",
      "Age is 28\n",
      "Gender is F\n"
     ]
    }
   ],
   "source": [
    "#2. Why *args and **kwargs is used in some functions? Create a function each for *args and **kwargs to demonstrate their use\n",
    "\n",
    "#  As we know In programming, we define a function to make a reusable code that performs similar operation. \n",
    "#  To perform that operation, we call a function with the specific value as variable, this value is called a function argument.\n",
    "#  We use *args and **kwargs as an argument when we are unsure about the number of arguments to pass in the functions.\n",
    "#  We can pass a variable, number of arguments to a function using special symbol: \n",
    "# *args (Non Keyword Arguments) For Ex:\n",
    "def adder(*num):\n",
    "    sum = 0    \n",
    "    for n in num:\n",
    "        sum = sum + n\n",
    "    print(\"Sum:\",sum)\n",
    "\n",
    "adder(3,5)\n",
    "adder(4,5,6,7)\n",
    "adder(1,2,3,5,6)\n",
    "\n",
    "# **kwargs (Keyword Arguments), it allows us to pass the variable length of keyword arguments to the function. In the function, we use the \n",
    "#double asterisk ** before the parameter name to denote this type of argument. The arguments are passed as a dictionary and these arguments \n",
    "# make a dictionary inside function with name same as the parameter excluding double asterisk **. For Ex:\n",
    "def intro(**data):\n",
    "    print(\"\\nData type of argument:\",type(data))\n",
    "    for key, value in data.items():\n",
    "        print(\"{} is {}\".format(key,value))\n",
    "\n",
    "intro(Firstname=\"Kratika\", Lastname=\"Dua\", Age=28, Gender=\"F\")\n"
   ]
  },
  {
   "cell_type": "code",
   "execution_count": 11,
   "id": "e0d3c393-60b4-4677-8b83-5d601cf2a785",
   "metadata": {},
   "outputs": [
    {
     "name": "stdout",
     "output_type": "stream",
     "text": [
      "2\n",
      "4\n",
      "6\n",
      "8\n",
      "10\n"
     ]
    }
   ],
   "source": [
    "#3. What is an iterator in python? Name the method used to initialise the iterator object and the method  used for iteration. \n",
    "#Use these methods to print the first five elements of the given list [2, 4, 6, 8, 10, 12, 14,  16, 18, 20]. \n",
    "\n",
    "#An iterator in Python is an object that implements the iterator protocol, which consists of two methods: __iter__() and __next__().\n",
    "#The __iter__ method is used to initialize the iterator object and the __next__ method is used to get the next item from the iterator during iteration.\n",
    "my_list = [2, 4, 6, 8, 10, 12, 14, 16, 18, 20]\n",
    "myit = iter(my_list)\n",
    "\n",
    "for i in range(5):\n",
    "    print(next(myit))"
   ]
  },
  {
   "cell_type": "code",
   "execution_count": 68,
   "id": "1a812841-8561-4bc9-84dc-263a01b7237a",
   "metadata": {},
   "outputs": [
    {
     "name": "stdout",
     "output_type": "stream",
     "text": [
      "<class 'generator'>\n",
      "0\n",
      "1\n",
      "1\n",
      "2\n",
      "3\n",
      "5\n",
      "8\n",
      "13\n",
      "21\n",
      "34\n"
     ]
    }
   ],
   "source": [
    "#4. What is a generator function in python? Why yield keyword is used? Give an example of a generator function. \n",
    "\n",
    "# A generator function is a special type of function in Python that allows you to generate a sequence of values, instead of returning a single value. \n",
    "# The generator function uses the yield keyword to return a value, instead of return. When the function is called, it returns a generator object, \n",
    "# which can be iterated over to get the sequence of values.\n",
    "\n",
    "# The yield keyword is used because it allows the function to \"pause\" its execution and return a value, while still retaining its state. \n",
    "# This means that the next time the generator is called, it continues from where it left off, instead of starting from the beginning. \n",
    "# This allows the generator to produce a sequence of values without using a lot of memory, because it only generates the next value when it's needed.\n",
    "\n",
    "def fibonacci_sequence(n):\n",
    "    a, b = 0, 1\n",
    "    for i in range(n):\n",
    "        yield a\n",
    "        a, b = b, a + b\n",
    "print(type(fibonacci_sequence(5)))\n",
    "for i in fibonacci_sequence(10):\n",
    "    print(i)\n"
   ]
  },
  {
   "cell_type": "code",
   "execution_count": 59,
   "id": "62364970-8ed3-4d8b-9a71-96e607bb1b56",
   "metadata": {},
   "outputs": [
    {
     "name": "stdout",
     "output_type": "stream",
     "text": [
      "2\n",
      "3\n",
      "5\n",
      "7\n",
      "11\n",
      "13\n",
      "17\n",
      "19\n",
      "23\n",
      "29\n",
      "31\n",
      "37\n",
      "41\n",
      "43\n",
      "47\n",
      "53\n",
      "59\n",
      "61\n",
      "67\n",
      "71\n"
     ]
    }
   ],
   "source": [
    "#5. Create a generator function for prime numbers less than 1000. Use the next() method to print the  first 20 prime numbers.\n",
    "\n",
    "def prime_num():\n",
    "    primes = []\n",
    "    for num in range(2, 1000):\n",
    "        for prime in primes:\n",
    "            if num % prime == 0:\n",
    "                break\n",
    "        else:\n",
    "            primes.append(num)\n",
    "            yield num\n",
    "\n",
    "prime_gen = prime_num()\n",
    "for i in range(20):\n",
    "    print(next(prime_gen))\n"
   ]
  },
  {
   "cell_type": "code",
   "execution_count": 85,
   "id": "9547b62e-b89c-41e3-bc28-a4edc4f850a1",
   "metadata": {},
   "outputs": [
    {
     "name": "stdout",
     "output_type": "stream",
     "text": [
      "0\n",
      "1\n",
      "1\n",
      "2\n",
      "3\n",
      "5\n",
      "8\n",
      "13\n",
      "21\n",
      "34\n"
     ]
    }
   ],
   "source": [
    "#6. Write a python program to print the first 10 Fibonacci numbers using a while loop. \n",
    "\n",
    "a, b = 0, 1\n",
    "i = 0\n",
    "while i < 10:\n",
    "    print(a)\n",
    "    a, b = b, a + b\n",
    "    i += 1\n",
    "  \n",
    "   "
   ]
  },
  {
   "cell_type": "code",
   "execution_count": 86,
   "id": "f27c407f-b128-4246-abb9-f080f0373a5b",
   "metadata": {},
   "outputs": [
    {
     "data": {
      "text/plain": [
       "['p', 'w', 's', 'k', 'i', 'l', 'l', 's']"
      ]
     },
     "execution_count": 86,
     "metadata": {},
     "output_type": "execute_result"
    }
   ],
   "source": [
    "#7. Write a List Comprehension to iterate through the given string: ‘pwskills’. Expected output: ['p', 'w', 's', 'k', 'i', 'l', 'l', 's'] \n",
    "a='pwskills'\n",
    "[i for i in a]\n"
   ]
  },
  {
   "cell_type": "code",
   "execution_count": 99,
   "id": "30895bbb-57c9-466e-896a-a73e6a20a4f5",
   "metadata": {},
   "outputs": [
    {
     "name": "stdin",
     "output_type": "stream",
     "text": [
      "Enter number: 122\n"
     ]
    },
    {
     "name": "stdout",
     "output_type": "stream",
     "text": [
      "The number isn't a palindrome!\n"
     ]
    }
   ],
   "source": [
    "#8. Write a python program to check whether a given number is Palindrome or not using a while loop.\n",
    "n=int(input(\"Enter number:\"))\n",
    "temp=n\n",
    "rev=0\n",
    "while(n>0):\n",
    "    dig=n%10\n",
    "    rev=rev*10+dig\n",
    "    n=n//10\n",
    "if(temp==rev):\n",
    "    print(\"The number is a palindrome!\")\n",
    "else:\n",
    "    print(\"The number isn't a palindrome!\")"
   ]
  },
  {
   "cell_type": "code",
   "execution_count": 97,
   "id": "e7970162-8589-46da-970b-07d04f569a54",
   "metadata": {},
   "outputs": [
    {
     "data": {
      "text/plain": [
       "[1,\n",
       " 3,\n",
       " 5,\n",
       " 7,\n",
       " 9,\n",
       " 11,\n",
       " 13,\n",
       " 15,\n",
       " 17,\n",
       " 19,\n",
       " 21,\n",
       " 23,\n",
       " 25,\n",
       " 27,\n",
       " 29,\n",
       " 31,\n",
       " 33,\n",
       " 35,\n",
       " 37,\n",
       " 39,\n",
       " 41,\n",
       " 43,\n",
       " 45,\n",
       " 47,\n",
       " 49,\n",
       " 51,\n",
       " 53,\n",
       " 55,\n",
       " 57,\n",
       " 59,\n",
       " 61,\n",
       " 63,\n",
       " 65,\n",
       " 67,\n",
       " 69,\n",
       " 71,\n",
       " 73,\n",
       " 75,\n",
       " 77,\n",
       " 79,\n",
       " 81,\n",
       " 83,\n",
       " 85,\n",
       " 87,\n",
       " 89,\n",
       " 91,\n",
       " 93,\n",
       " 95,\n",
       " 97,\n",
       " 99]"
      ]
     },
     "execution_count": 97,
     "metadata": {},
     "output_type": "execute_result"
    }
   ],
   "source": [
    "#9. Write a code to print odd numbers from 1 to 100 using list comprehension. \n",
    "# Note: Use a list comprehension to create a list from 1 to 100 and use another List comprehension to filter  out odd numbers. \n",
    "l=[i for i in range(1,101)]\n",
    "[i for i in l if i % 2 !=0]"
   ]
  },
  {
   "cell_type": "code",
   "execution_count": null,
   "id": "d0781949-7c7a-4211-99bf-a4f60072d5cf",
   "metadata": {},
   "outputs": [],
   "source": []
  }
 ],
 "metadata": {
  "kernelspec": {
   "display_name": "Python 3 (ipykernel)",
   "language": "python",
   "name": "python3"
  },
  "language_info": {
   "codemirror_mode": {
    "name": "ipython",
    "version": 3
   },
   "file_extension": ".py",
   "mimetype": "text/x-python",
   "name": "python",
   "nbconvert_exporter": "python",
   "pygments_lexer": "ipython3",
   "version": "3.10.8"
  }
 },
 "nbformat": 4,
 "nbformat_minor": 5
}
