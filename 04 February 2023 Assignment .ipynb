{
 "cells": [
  {
   "cell_type": "code",
   "execution_count": 9,
   "id": "f386cc3f-70c4-4825-b506-dafdda0d76d9",
   "metadata": {},
   "outputs": [
    {
     "name": "stdout",
     "output_type": "stream",
     "text": [
      "[('Virat Kohli', 24936), ('Jack Kallis', 25534), ('Ricky Ponting', 27483), ('Sachin Tendulkar', 34357)]\n"
     ]
    }
   ],
   "source": [
    "#1. Create a python program to sort the given list of tuples based on integer value using a  lambda function.  \n",
    "l = [('Sachin Tendulkar', 34357), ('Ricky Ponting', 27483), ('Jack Kallis', 25534), ('Virat Kohli', 24936)] \n",
    "\n",
    "sort_list = sorted(l,key=lambda s: s[1])\n",
    "print(sort_list)\n"
   ]
  },
  {
   "cell_type": "code",
   "execution_count": 21,
   "id": "834707d8-e9e6-46cc-9a94-535d7a9777ee",
   "metadata": {},
   "outputs": [
    {
     "name": "stdout",
     "output_type": "stream",
     "text": [
      "[1, 4, 9, 16, 25, 36, 49, 64, 81, 100]\n"
     ]
    }
   ],
   "source": [
    "#2. Write a Python Program to find the squares of all the numbers in the given list of integers using  lambda and map functions. \n",
    "#[1, 2, 3, 4, 5, 6, 7, 8, 9, 10] \n",
    "\n",
    "l1=[1, 2, 3, 4, 5, 6, 7, 8, 9, 10] \n",
    "l2 = list(map(lambda x: x**2, l1))\n",
    "print(l2)\n"
   ]
  },
  {
   "cell_type": "code",
   "execution_count": 23,
   "id": "c3ff823c-887b-4a74-bded-5aebf5b05113",
   "metadata": {},
   "outputs": [
    {
     "name": "stdout",
     "output_type": "stream",
     "text": [
      "('1', '2', '3', '4', '5', '6', '7', '8', '9', '10')\n"
     ]
    }
   ],
   "source": [
    "#3. Write a python program to convert the given list of integers into a tuple of strings. Use map and  lambda functions.\n",
    "l=[1, 2, 3, 4, 5, 6, 7, 8, 9, 10] \n",
    "tupl = tuple(map(lambda x: str(x), l))\n",
    "print(tupl)"
   ]
  },
  {
   "cell_type": "code",
   "execution_count": 6,
   "id": "a23f2a26-fc81-412b-ae96-2e39b874e2bf",
   "metadata": {},
   "outputs": [
    {
     "name": "stdout",
     "output_type": "stream",
     "text": [
      "15511210043330985984000000\n"
     ]
    }
   ],
   "source": [
    "#4. Write a python program using reduce function to compute the product of a list containing numbers  from 1 to 25.\n",
    "from functools import reduce\n",
    "listn =list(range(1, 26))\n",
    "product = reduce(lambda x,y: x*y, listn)\n",
    "print(product)"
   ]
  },
  {
   "cell_type": "code",
   "execution_count": 8,
   "id": "26a20e2d-3a07-4a12-a77a-8fe759574e02",
   "metadata": {},
   "outputs": [
    {
     "name": "stdout",
     "output_type": "stream",
     "text": [
      "[2, 6, 60, 90, 120, 46]\n"
     ]
    }
   ],
   "source": [
    "#5. Write a python program to filter the numbers in a given list that are divisible by 2 and 3 using the  filter function. \n",
    "list1 = [2, 3, 6, 9, 27, 60, 90, 120, 55, 46]\n",
    "list2 = list(filter(lambda x : x % 2==0 and x % 2==0, list1))\n",
    "print(list2)"
   ]
  },
  {
   "cell_type": "code",
   "execution_count": 9,
   "id": "95c6361f-a137-44ff-95be-9281c2e6c70d",
   "metadata": {},
   "outputs": [
    {
     "name": "stdout",
     "output_type": "stream",
     "text": [
      "['php', 'aba', 'radar', 'level']\n"
     ]
    }
   ],
   "source": [
    "#6. Write a python program to find palindromes in the given list of strings using lambda and filter  function. \n",
    "l=['python', 'php', 'aba', 'radar', 'level']\n",
    "l2 =list(filter(lambda x : x==x[::-1], l))\n",
    "print(l2)\n"
   ]
  }
 ],
 "metadata": {
  "kernelspec": {
   "display_name": "Python 3 (ipykernel)",
   "language": "python",
   "name": "python3"
  },
  "language_info": {
   "codemirror_mode": {
    "name": "ipython",
    "version": 3
   },
   "file_extension": ".py",
   "mimetype": "text/x-python",
   "name": "python",
   "nbconvert_exporter": "python",
   "pygments_lexer": "ipython3",
   "version": "3.10.8"
  }
 },
 "nbformat": 4,
 "nbformat_minor": 5
}
